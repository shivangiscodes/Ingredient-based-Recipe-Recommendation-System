{
 "cells": [
  {
   "cell_type": "markdown",
   "metadata": {},
   "source": [
    "Code Implementation\n",
    "____"
   ]
  },
  {
   "cell_type": "markdown",
   "metadata": {},
   "source": [
    "1. Text Processing and Data Preparation"
   ]
  },
  {
   "cell_type": "code",
   "execution_count": 1,
   "metadata": {},
   "outputs": [],
   "source": [
    "import pandas as pd\n",
    "\n",
    "import os\n",
    "import json\n",
    "import re\n",
    "from sklearn.feature_extraction.text import TfidfVectorizer\n",
    "from sklearn.metrics.pairwise import cosine_similarity\n",
    "\n",
    "# Data Files\n",
    "files = [\"DataFiles\\\\Salad.txt\", \"DataFiles\\\\Sides.txt\", \"DataFiles\\\\Drinks.txt\", \"DataFiles\\\\Desserts.txt\", \"DataFiles\\\\Breakfast and Brunch.txt\", \"DataFiles\\\\Bread.txt\"]\n",
    "\n",
    "# Load and process data\n",
    "recipes = {}\n",
    "for file in files:\n",
    "    category = os.path.splitext(file)[0]\n",
    "    with open(file, \"r\") as f:\n",
    "        text = f.read()\n",
    "        # Extract recipe lists\n",
    "        recipe_list = re.findall(r\"\\[(.*?)\\]\", text, re.DOTALL)\n",
    "        recipes[category] = recipe_list\n",
    "\n",
    "# Save structured data to JSON\n",
    "with open(\"recipes.json\", \"w\") as f:\n",
    "    json.dump(recipes, f, indent=4)\n"
   ]
  },
  {
   "cell_type": "markdown",
   "metadata": {},
   "source": [
    "2. Building the Hybrid Recommendation Model"
   ]
  },
  {
   "cell_type": "markdown",
   "metadata": {},
   "source": [
    "2.1 Deep Learning for Feature Analysis\n",
    "\n",
    "Use TF-IDF for extracting meaningful features from recipes. Later, this can be extended to embeddings from deep learning models like BERT for ingredient relationships."
   ]
  },
  {
   "cell_type": "code",
   "execution_count": 20,
   "metadata": {},
   "outputs": [
    {
     "name": "stdout",
     "output_type": "stream",
     "text": [
      "Recommendations:\n",
      "Recipe: 1 cup shortening\n",
      " 1 cup confectioners' sugar\n",
      " 1 cup white sugar, Category: DataFiles\\Desserts, Similarity: 0.43\n",
      "Recipe: 1 cup white sugar\n",
      " 1 cup brown sugar\n",
      " 1 cup heavy cream, Category: DataFiles\\Desserts, Similarity: 0.40\n",
      "Recipe: 1/4 cup butter\n",
      " 3/4 cup brown sugar\n",
      " 1/4 cup heavy cream\n",
      " 2 cups confectioners' sugar, Category: DataFiles\\Desserts, Similarity: 0.36\n",
      "Recipe: 1 cup brown sugar\n",
      " 1 cup white sugar\n",
      " 1/3 cup water\n",
      " 1 tablespoon butter\n",
      " 2 cups chopped pecans, Category: DataFiles\\Desserts, Similarity: 0.36\n",
      "Recipe: 1/2 cup butter\n",
      " 1/2 cup brown sugar\n",
      " 1/2 cup white sugar\n",
      " 1/8 teaspoon salt\n",
      " 1/2 cup heavy whipping cream\n",
      " 1 teaspoon vanilla extract\n",
      " 2 cups confectioners' sugar\n",
      " 1 cup chopped pecans, Category: DataFiles\\Desserts, Similarity: 0.35\n"
     ]
    }
   ],
   "source": [
    "# TF-IDF Vectorization\n",
    "recipe_texts = []\n",
    "categories = []\n",
    "for category, recipe_list in recipes.items():\n",
    "    for recipe in recipe_list:\n",
    "        recipe_texts.append(recipe)\n",
    "        categories.append(category)\n",
    "\n",
    "tfidf = TfidfVectorizer()\n",
    "tfidf_matrix = tfidf.fit_transform(recipe_texts)\n",
    "\n",
    "# Cosine Similarity for Recommendations\n",
    "def recommend_recipe(query, top_n=5):\n",
    "    query_vector = tfidf.transform([query])\n",
    "    similarities = cosine_similarity(query_vector, tfidf_matrix).flatten()\n",
    "    recommendations = sorted(enumerate(similarities), key=lambda x: -x[1])[:top_n]\n",
    "    return [(recipe_texts[i], categories[i], similarities[i]) for i, _ in recommendations]\n",
    "\n",
    "# Example Query\n",
    "query = \"Sugar\"\n",
    "recommendations = recommend_recipe(query)\n",
    "print(\"Recommendations:\")\n",
    "for rec in recommendations:\n",
    "    print(f\"Recipe: {rec[0]}, Category: {rec[1]}, Similarity: {rec[2]:.2f}\")\n"
   ]
  },
  {
   "cell_type": "markdown",
   "metadata": {},
   "source": [
    "___\n",
    "___"
   ]
  },
  {
   "cell_type": "code",
   "execution_count": 2,
   "metadata": {},
   "outputs": [
    {
     "ename": "TypeError",
     "evalue": "string indices must be integers, not 'str'",
     "output_type": "error",
     "traceback": [
      "\u001b[1;31m---------------------------------------------------------------------------\u001b[0m",
      "\u001b[1;31mTypeError\u001b[0m                                 Traceback (most recent call last)",
      "Cell \u001b[1;32mIn[2], line 28\u001b[0m\n\u001b[0;32m     26\u001b[0m \u001b[38;5;28;01mfor\u001b[39;00m category, recipe_list \u001b[38;5;129;01min\u001b[39;00m recipes\u001b[38;5;241m.\u001b[39mitems():\n\u001b[0;32m     27\u001b[0m     \u001b[38;5;28;01mfor\u001b[39;00m recipe \u001b[38;5;129;01min\u001b[39;00m recipe_list:\n\u001b[1;32m---> 28\u001b[0m         recipe_texts\u001b[38;5;241m.\u001b[39mappend(\u001b[43mrecipe\u001b[49m\u001b[43m[\u001b[49m\u001b[38;5;124;43m\"\u001b[39;49m\u001b[38;5;124;43mrecipe\u001b[39;49m\u001b[38;5;124;43m\"\u001b[39;49m\u001b[43m]\u001b[49m)\n\u001b[0;32m     29\u001b[0m         categories\u001b[38;5;241m.\u001b[39mappend(category)\n\u001b[0;32m     30\u001b[0m         food_names\u001b[38;5;241m.\u001b[39mappend(recipe[\u001b[38;5;124m\"\u001b[39m\u001b[38;5;124mname\u001b[39m\u001b[38;5;124m\"\u001b[39m])\n",
      "\u001b[1;31mTypeError\u001b[0m: string indices must be integers, not 'str'"
     ]
    }
   ],
   "source": [
    "import re\n",
    "from sklearn.feature_extraction.text import TfidfVectorizer\n",
    "from sklearn.metrics.pairwise import cosine_similarity\n",
    "\n",
    "# Flatten Recipes with Food Item Names and Categories\n",
    "recipe_texts = []\n",
    "categories = []\n",
    "food_names = []\n",
    "for category, recipe_list in recipes.items():\n",
    "    for recipe in recipe_list:\n",
    "        recipe_texts.append(recipe[\"recipe\"])\n",
    "        categories.append(category)\n",
    "        food_names.append(recipe[\"name\"])\n",
    "\n",
    "# TF-IDF Vectorization\n",
    "tfidf = TfidfVectorizer()\n",
    "tfidf_matrix = tfidf.fit_transform(recipe_texts)\n",
    "\n",
    "# Function to Filter Recipes Based on Allergies\n",
    "def filter_recipes_by_allergy(allergies):\n",
    "    \"\"\"\n",
    "    Removes recipes containing any allergenic ingredients.\n",
    "    \"\"\"\n",
    "    filtered_recipes = []\n",
    "    filtered_categories = []\n",
    "    filtered_names = []\n",
    "    for i, recipe in enumerate(recipe_texts):\n",
    "        if not any(allergy.lower() in recipe.lower() for allergy in allergies):\n",
    "            filtered_recipes.append(recipe)\n",
    "            filtered_categories.append(categories[i])\n",
    "            filtered_names.append(food_names[i])\n",
    "    return filtered_recipes, filtered_categories, filtered_names\n",
    "\n",
    "# Recommendation Function\n",
    "def recommend_recipe(query, allergies, top_n=5):\n",
    "    \"\"\"\n",
    "    Recommend recipes based on the query, excluding those with allergic ingredients.\n",
    "    \"\"\"\n",
    "    # Filter recipes based on allergies\n",
    "    filtered_recipes, filtered_categories, filtered_names = filter_recipes_by_allergy(allergies)\n",
    "    if not filtered_recipes:\n",
    "        return \"No recipes available matching your preferences.\"\n",
    "\n",
    "    # Recompute TF-IDF for filtered recipes\n",
    "    filtered_tfidf_matrix = tfidf.fit_transform(filtered_recipes)\n",
    "\n",
    "    # Compute similarities\n",
    "    query_vector = tfidf.transform([query])\n",
    "    similarities = cosine_similarity(query_vector, filtered_tfidf_matrix).flatten()\n",
    "\n",
    "    # Get top recommendations\n",
    "    recommendations = sorted(enumerate(similarities), key=lambda x: -x[1])[:top_n]\n",
    "    return [(filtered_names[i], filtered_recipes[i], filtered_categories[i], similarities[i]) for i, _ in recommendations]\n",
    "\n",
    "# User Input for Allergies\n",
    "allergies = input(\"Enter ingredients you are allergic to (comma-separated): \").split(\",\")\n",
    "allergies = [allergy.strip() for allergy in allergies]\n",
    "\n",
    "# Example Query\n",
    "query = input(\"Enter a keyword or ingredient you want to explore: \")\n",
    "recommendations = recommend_recipe(query, allergies)\n",
    "\n",
    "# Output Recommendations\n",
    "print(\"\\nRecommendations:\")\n",
    "if isinstance(recommendations, str):\n",
    "    print(recommendations)\n",
    "else:\n",
    "    for rec in recommendations:\n",
    "        print(f\"Food Name: {rec[0]}\\nRecipe: {rec[1]}\\nCategory: {rec[2]}\\nSimilarity: {rec[3]:.2f}\\n\")\n"
   ]
  },
  {
   "cell_type": "markdown",
   "metadata": {},
   "source": [
    "2.2 Graph Clustering for Trust Networks\n",
    "\n",
    "Simulate a graph of users and recipes based on preferences. For now, this mock graph demonstrates clustering functionality."
   ]
  },
  {
   "cell_type": "code",
   "execution_count": 10,
   "metadata": {},
   "outputs": [
    {
     "data": {
      "image/png": "[encoded data removed]",
      "text/plain": [
       "<Figure size 640x480 with 1 Axes>"
      ]
     },
     "metadata": {},
     "output_type": "display_data"
    }
   ],
   "source": [
    "import networkx as nx\n",
    "import matplotlib.pyplot as plt\n",
    "\n",
    "# Mock Graph Data\n",
    "G = nx.Graph()\n",
    "\n",
    "# Users\n",
    "users = [\"User1\", \"User2\", \"User3\", \"User4\"]\n",
    "for user in users:\n",
    "    G.add_node(user, type=\"user\")\n",
    "\n",
    "# Recipes as nodes\n",
    "for idx, recipe in enumerate(recipe_texts[:10]):  # Use first 10 recipes\n",
    "    G.add_node(f\"Recipe{idx}\", type=\"recipe\")\n",
    "\n",
    "# Edges (User preferences for recipes)\n",
    "edges = [\n",
    "    (\"User1\", \"Recipe0\"),\n",
    "    (\"User1\", \"Recipe1\"),\n",
    "    (\"User2\", \"Recipe0\"),\n",
    "    (\"User2\", \"Recipe2\"),\n",
    "    (\"User3\", \"Recipe3\"),\n",
    "    (\"User4\", \"Recipe4\"),\n",
    "]\n",
    "G.add_edges_from(edges)\n",
    "\n",
    "# Visualize Graph\n",
    "nx.draw(G, with_labels=True, node_size=2000, node_color=\"lightblue\", font_size=10)\n",
    "plt.show()\n"
   ]
  },
  {
   "cell_type": "markdown",
   "metadata": {},
   "source": [
    "2.3 Reinforcement Learning for Real-Time Updates\n",
    "\n",
    "Implement a Q-learning agent that learns from user feedback."
   ]
  },
  {
   "cell_type": "code",
   "execution_count": 11,
   "metadata": {},
   "outputs": [
    {
     "name": "stdout",
     "output_type": "stream",
     "text": [
      "Q-Table after feedback update:\n",
      "[[0.  0.1 0.  ... 0.  0.  0. ]\n",
      " [0.  0.  0.  ... 0.  0.  0. ]\n",
      " [0.  0.  0.  ... 0.  0.  0. ]\n",
      " ...\n",
      " [0.  0.  0.  ... 0.  0.  0. ]\n",
      " [0.  0.  0.  ... 0.  0.  0. ]\n",
      " [0.  0.  0.  ... 0.  0.  0. ]]\n"
     ]
    }
   ],
   "source": [
    "import numpy as np\n",
    "\n",
    "# Mock Q-Learning Example\n",
    "n_recipes = len(recipe_texts)\n",
    "q_table = np.zeros((n_recipes, n_recipes))  # State-Action Table\n",
    "\n",
    "# Mock Rewards\n",
    "feedback = [1, 0, 1, -1, 1]  # Simulated user feedback for some recommendations\n",
    "\n",
    "# Update Q-Table\n",
    "alpha = 0.1  # Learning rate\n",
    "gamma = 0.6  # Discount factor\n",
    "\n",
    "for i, reward in enumerate(feedback):\n",
    "    current_state = i\n",
    "    next_state = (i + 1) % n_recipes\n",
    "    q_table[current_state, next_state] += alpha * (reward + gamma * np.max(q_table[next_state]) - q_table[current_state, next_state])\n",
    "\n",
    "print(\"Q-Table after feedback update:\")\n",
    "print(q_table)\n"
   ]
  },
  {
   "cell_type": "markdown",
   "metadata": {},
   "source": [
    "_________\n",
    "_________"
   ]
  },
  {
   "cell_type": "markdown",
   "metadata": {},
   "source": [
    "3. Evaluation Metrics"
   ]
  },
  {
   "cell_type": "markdown",
   "metadata": {},
   "source": [
    "Here are the primary metrics used for testing recommendation systems:\n",
    "\n",
    "3.1 Precision, Recall, and F1-Score\n",
    "* Precision: Measures how many recommended items are relevant.\n",
    "* Recall: Measures how many relevant items are recommended.\n",
    "* F1-Score: Combines precision and recall into a single metric."
   ]
  },
  {
   "cell_type": "code",
   "execution_count": 12,
   "metadata": {},
   "outputs": [
    {
     "name": "stdout",
     "output_type": "stream",
     "text": [
      "Precision: 0.67\n",
      "Recall: 0.67\n",
      "F1-Score: 0.67\n"
     ]
    }
   ],
   "source": [
    "from sklearn.metrics import precision_score, recall_score, f1_score\n",
    "\n",
    "# Example User Interaction Data\n",
    "true_recommendations = [1, 0, 1, 1, 0]  # Actual user preferences (1 = relevant, 0 = irrelevant)\n",
    "predicted_recommendations = [1, 0, 0, 1, 1]  # Predicted system recommendations\n",
    "\n",
    "# Precision, Recall, and F1-Score\n",
    "precision = precision_score(true_recommendations, predicted_recommendations)\n",
    "recall = recall_score(true_recommendations, predicted_recommendations)\n",
    "f1 = f1_score(true_recommendations, predicted_recommendations)\n",
    "\n",
    "print(f\"Precision: {precision:.2f}\")\n",
    "print(f\"Recall: {recall:.2f}\")\n",
    "print(f\"F1-Score: {f1:.2f}\")\n"
   ]
  },
  {
   "cell_type": "markdown",
   "metadata": {},
   "source": [
    "3.2 Mean Average Precision (MAP)\n",
    "\n",
    "Measures how well the system ranks relevant items for users."
   ]
  },
  {
   "cell_type": "code",
   "execution_count": 13,
   "metadata": {},
   "outputs": [
    {
     "name": "stdout",
     "output_type": "stream",
     "text": [
      "Mean Average Precision (MAP): 0.75\n"
     ]
    }
   ],
   "source": [
    "import numpy as np\n",
    "\n",
    "def mean_average_precision(relevance_scores):\n",
    "    \"\"\"\n",
    "    relevance_scores: List of lists where each sublist contains binary relevance scores for a user's recommendations.\n",
    "    \"\"\"\n",
    "    map_score = 0\n",
    "    for user_scores in relevance_scores:\n",
    "        num_relevant = 0\n",
    "        precision_sum = 0\n",
    "        for idx, score in enumerate(user_scores):\n",
    "            if score == 1:\n",
    "                num_relevant += 1\n",
    "                precision_sum += num_relevant / (idx + 1)\n",
    "        map_score += precision_sum / max(1, sum(user_scores))\n",
    "    return map_score / len(relevance_scores)\n",
    "\n",
    "# Example Relevance Scores for 3 Users\n",
    "user_relevance = [\n",
    "    [1, 0, 1, 0, 1],  # User 1\n",
    "    [1, 1, 0, 1, 0],  # User 2\n",
    "    [0, 1, 1, 0, 0],  # User 3\n",
    "]\n",
    "\n",
    "print(f\"Mean Average Precision (MAP): {mean_average_precision(user_relevance):.2f}\")\n"
   ]
  },
  {
   "cell_type": "markdown",
   "metadata": {},
   "source": [
    "3.3 Normalized Discounted Cumulative Gain (NDCG)\n",
    "\n",
    "Measures how well the model ranks items in terms of their relevance, giving higher weight to items at the top of the ranking."
   ]
  },
  {
   "cell_type": "code",
   "execution_count": 14,
   "metadata": {},
   "outputs": [
    {
     "name": "stdout",
     "output_type": "stream",
     "text": [
      "NDCG@5: 0.89\n"
     ]
    }
   ],
   "source": [
    "def ndcg(relevance_scores, k):\n",
    "    \"\"\"\n",
    "    relevance_scores: Binary relevance scores (1 = relevant, 0 = irrelevant) in predicted order.\n",
    "    k: Number of top recommendations to evaluate.\n",
    "    \"\"\"\n",
    "    dcg = 0\n",
    "    idcg = 0\n",
    "    for i in range(k):\n",
    "        rel = relevance_scores[i] if i < len(relevance_scores) else 0\n",
    "        dcg += (2**rel - 1) / np.log2(i + 2)\n",
    "        idcg += 1 / np.log2(i + 2) if i < sum(relevance_scores) else 0\n",
    "    return dcg / idcg if idcg > 0 else 0\n",
    "\n",
    "# Example Relevance Scores\n",
    "relevance = [1, 0, 1, 0, 1]  # Predicted relevance\n",
    "k = 5\n",
    "\n",
    "print(f\"NDCG@{k}: {ndcg(relevance, k):.2f}\")"
   ]
  },
  {
   "cell_type": "markdown",
   "metadata": {},
   "source": [
    "4. Cross-Validation\n",
    "\n",
    "Divide your data into training and test sets to simulate real-world recommendation scenarios."
   ]
  },
  {
   "cell_type": "code",
   "execution_count": 15,
   "metadata": {},
   "outputs": [
    {
     "name": "stdout",
     "output_type": "stream",
     "text": [
      "Training Data:\n",
      "[[0 0 5 4]\n",
      " [5 3 0 1]\n",
      " [1 1 0 5]]\n",
      "Test Data:\n",
      "[[4 0 0 1]]\n"
     ]
    }
   ],
   "source": [
    "from sklearn.model_selection import train_test_split\n",
    "\n",
    "# Example Data\n",
    "user_ratings = np.array([\n",
    "    [5, 3, 0, 1],\n",
    "    [4, 0, 0, 1],\n",
    "    [1, 1, 0, 5],\n",
    "    [0, 0, 5, 4],\n",
    "])  # Rows: Users, Columns: Items\n",
    "\n",
    "# Train-Test Split\n",
    "train, test = train_test_split(user_ratings, test_size=0.25, random_state=42)\n",
    "\n",
    "print(\"Training Data:\")\n",
    "print(train)\n",
    "print(\"Test Data:\")\n",
    "print(test)"
   ]
  },
  {
   "cell_type": "markdown",
   "metadata": {},
   "source": [
    "5. A/B Testing with User Feedback\n",
    "\n",
    "Deploy the system for real users and measure click-through rates (CTR), engagement metrics, and user satisfaction scores.\n"
   ]
  },
  {
   "cell_type": "code",
   "execution_count": 16,
   "metadata": {},
   "outputs": [
    {
     "name": "stdout",
     "output_type": "stream",
     "text": [
      "Accuracy: 0.60\n"
     ]
    }
   ],
   "source": [
    "# Simulate Feedback\n",
    "actual_feedback = [1, 0, 1, 1, 0]  # Real preferences\n",
    "predicted_feedback = [1, 1, 1, 0, 0]  # Recommendations\n",
    "\n",
    "# Calculate Accuracy\n",
    "accuracy = sum([1 for a, p in zip(actual_feedback, predicted_feedback) if a == p]) / len(actual_feedback)\n",
    "print(f\"Accuracy: {accuracy:.2f}\")"
   ]
  },
  {
   "cell_type": "markdown",
   "metadata": {},
   "source": [
    "6. Reinforcement Learning-Specific Metrics\n",
    "\n",
    "For the RL component, measure:\n",
    "\n",
    "* Cumulative Reward: Sum of all rewards over episodes.\n",
    "* Exploration vs. Exploitation: Percentage of exploratory actions vs. learned actions."
   ]
  },
  {
   "cell_type": "code",
   "execution_count": 17,
   "metadata": {},
   "outputs": [
    {
     "name": "stdout",
     "output_type": "stream",
     "text": [
      "Average Cumulative Reward: 9.80\n"
     ]
    }
   ],
   "source": [
    "# Mock RL Rewards\n",
    "rewards = [10, 5, -1, 20, 15]  # Example cumulative rewards for 5 episodes\n",
    "print(f\"Average Cumulative Reward: {np.mean(rewards):.2f}\")"
   ]
  },
  {
   "cell_type": "code",
   "execution_count": null,
   "metadata": {},
   "outputs": [],
   "source": []
  }
 ],
 "metadata": {
  "kernelspec": {
   "display_name": "Python 3",
   "language": "python",
   "name": "python3"
  },
  "language_info": {
   "codemirror_mode": {
    "name": "ipython",
    "version": 3
   },
   "file_extension": ".py",
   "mimetype": "text/x-python",
   "name": "python",
   "nbconvert_exporter": "python",
   "pygments_lexer": "ipython3",
   "version": "3.12.5"
  }
 },
 "nbformat": 4,
 "nbformat_minor": 2
}
